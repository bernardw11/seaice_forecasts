{
 "cells": [
  {
   "cell_type": "code",
   "execution_count": 1,
   "id": "59641824",
   "metadata": {},
   "outputs": [],
   "source": [
    "import numpy as np\n",
    "import pandas as pd\n",
    "import matplotlib.pyplot as plt\n",
    "from mpl_toolkits.axes_grid1 import ImageGrid\n",
    "import datetime\n",
    "from dateutil.relativedelta import relativedelta\n",
    "import time\n",
    "\n",
    "from cartopy import crs as ccrs, feature as cfeature\n",
    "import warnings\n",
    "warnings.filterwarnings('ignore')\n",
    "\n",
    "import xarray as xr\n",
    "import glob, os\n",
    "os.environ['HDF5_USE_FILE_LOCKING'] = 'FALSE'\n",
    "import xskillscore as xs\n",
    "\n",
    "from eofs.xarray import Eof\n",
    "from eofs.standard import Eof as sEof # If needed\n",
    "from eofs.multivariate.standard import MultivariateEof\n",
    "\n",
    "sp = ccrs.SouthPolarStereo()\n",
    "pc = ccrs.PlateCarree()"
   ]
  },
  {
   "cell_type": "code",
   "execution_count": 2,
   "id": "5ed56134",
   "metadata": {},
   "outputs": [],
   "source": [
    "filename = '/home/bxw2101/cross/cross_matrix'\n",
    "cmat = np.fromfile(filename, dtype=np.float32)[1:-1]"
   ]
  },
  {
   "cell_type": "code",
   "execution_count": 3,
   "id": "95e9f902",
   "metadata": {},
   "outputs": [
    {
     "data": {
      "text/plain": [
       "array([-7.33002990e-16,  0.00000000e+00,  0.00000000e+00, ...,\n",
       "        5.20999893e-05,  1.09158555e-05,  8.57897030e-05], dtype=float32)"
      ]
     },
     "execution_count": 3,
     "metadata": {},
     "output_type": "execute_result"
    }
   ],
   "source": [
    "cmat"
   ]
  }
 ],
 "metadata": {
  "kernelspec": {
   "display_name": "Python 3 (ipykernel)",
   "language": "python",
   "name": "python3"
  },
  "language_info": {
   "codemirror_mode": {
    "name": "ipython",
    "version": 3
   },
   "file_extension": ".py",
   "mimetype": "text/x-python",
   "name": "python",
   "nbconvert_exporter": "python",
   "pygments_lexer": "ipython3",
   "version": "3.7.13"
  }
 },
 "nbformat": 4,
 "nbformat_minor": 5
}
