{
 "cells": [
  {
   "cell_type": "markdown",
   "metadata": {},
   "source": [
    "Testing! Let's see if this works. tryna read in the netcdf files. https://www.earthinversion.com/utilities/reading-NetCDF4-data-in-python/ is what i've been following pretty closely."
   ]
  },
  {
   "cell_type": "code",
   "execution_count": 1,
   "metadata": {
    "scrolled": true
   },
   "outputs": [],
   "source": [
    "import netCDF4\n",
    "from netCDF4 import Dataset\n",
    "import numpy as np\n",
    "import matplotlib.pyplot as plt\n",
    "#from mpl_toolkits.basemap import Basemap <- this doesn't work for some reason. sad. so we gotta plot some other way.\n",
    "#%matplotlib inline\n",
    "\n",
    "filename = '/d6/bxw2101/seaice_conc_monthly/seaice_conc_monthly_sh_200705_f13_v04r00.nc'\n",
    "fh = Dataset(filename, mode='r')\n",
    "\n",
    "import datetime"
   ]
  },
  {
   "cell_type": "code",
   "execution_count": 3,
   "metadata": {},
   "outputs": [
    {
     "name": "stdout",
     "output_type": "stream",
     "text": [
      "odict_keys(['cdr_seaice_conc_monthly', 'nsidc_bt_seaice_conc_monthly', 'nsidc_nt_seaice_conc_monthly', 'projection', 'qa_of_cdr_seaice_conc_monthly', 'stdev_of_cdr_seaice_conc_monthly', 'time', 'xgrid', 'ygrid'])\n"
     ]
    }
   ],
   "source": [
    "print(fh.variables.keys())"
   ]
  },
  {
   "cell_type": "code",
   "execution_count": 38,
   "metadata": {},
   "outputs": [
    {
     "name": "stdout",
     "output_type": "stream",
     "text": [
      "<class 'netCDF4._netCDF4.Dataset'>\n",
      "root group (NETCDF4 data model, file format HDF5):\n",
      "    Conventions: CF-1.6, ACDD-1.3\n",
      "    title: NOAA/NSIDC Climate Data Record of Passive Microwave Sea Ice Concentration Version 4\n",
      "    comment: none\n",
      "    program: NOAA Climate Data Record Program\n",
      "    cdr_variable: cdr_seaice_conc_monthly\n",
      "    metadata_link: https://nsidc.org/data/g02202/versions/4/\n",
      "    spatial_resolution: 25km\n",
      "    standard_name_vocabulary: CF Standard Name Table (v16, 11 October 2010)\n",
      "    id: https://doi.org/10.7265/sr8p-kc62\n",
      "    naming_authority: org.doi.dx\n",
      "    license: No constraints on data access or use\n",
      "    summary: This data set provides a passive microwave sea ice concentration climate data record (CDR) based on gridded brightness temperatures (TBs) from the Defense Meteorological Satellite Program (DMSP) series of passive microwave radiometers: the Nimbus-7 Scanning Multichannel Microwave Radiometer (SMMR), the Special Sensor Microwave Imager (SSM/I) and the Special Sensor Microwave Imager/Sounder (SSMIS). The sea ice concentration CDR is an estimate of sea ice concentration that is produced by combining concentration estimates from two algorithms developed at the NASA Goddard Space Flight Center (GSFC): the NASA Team algorithm and the Bootstrap algorithm. The individual algorithms are used to process and combine brightness temperature data at NSIDC.  This product is designed to provide a consistent time series of sea ice concentrations (the fraction, or percentage, of ocean area covered by sea ice) from November 1978 to the present which spans the coverage of several passive microwave instruments. The data are gridded on the NSIDC polar stereographic grid with 25 x 25 km grid cells, and are available in NetCDF file format. Each file contains a variable with the CDR concentration values as well as variables that hold the NASA Team and Bootstrap concentrations for reference. Variables containing standard deviation, quality flags, and projection information are also included. Data are available via FTP.\n",
      "    keywords: EARTH SCIENCE > CRYOSPHERE > SEA ICE > SEA ICE CONCENTRATION, Geographic Region > Polar, Geographic Region > Southern Hemisphere, Ocean > Southern Ocean, Ocean > Southern Ocean > Bellingshausen Sea, Ocean > Southern Ocean > Ross Sea, Ocean > Southern Ocean > Weddell Sea\n",
      "    keywords_vocabulary: NASA Global Change Master Directory (GCMD) Keywords, Version 7.0.0\n",
      "    cdm_data_type: Grid\n",
      "    project: NOAA/NSIDC passive microwave sea ice concentration climate data record\n",
      "    creator_url: http://nsidc.org/\n",
      "    creator_email: nsidc@nsidc.org\n",
      "    institution: NSIDC > National Snow and Ice Data Center\n",
      "    processing_level: NOAA Level 3\n",
      "    geospatial_lat_min: -90.0\n",
      "    geospatial_lat_max: -41.45\n",
      "    geospatial_lat_units: degrees_north\n",
      "    geospatial_lon_min: -180.0\n",
      "    geospatial_lon_max: 180.0\n",
      "    geospatial_lon_units: degrees_east\n",
      "    time_coverage_duration: P1M\n",
      "    time_coverage_resolution: P1M\n",
      "    contributor_name: Walter N. Meier, Florence Fetterer, Ann Windnagel, J. Scott Stewart, Trey Stafford, Matt Fisher\n",
      "    contributor_role: principal investigator, author, author, software developer, software developer, software developer\n",
      "    acknowledgment: This project was supported in part by a grant from the NOAA Climate Data Record Program. Production of original NASA Team and Bootstrap algorithm estimates supported by the NASA Polar Distributed Active Archive Center. The sea ice concentration algorithms were developed by Donald J. Cavalieri, Josefino C. Comiso, Claire L. Parkinson, and others at the NASA Goddard Space Flight Center in Greenbelt, MD.\n",
      "    history: Tue Jan  5 13:40:25 2021: ncks -x -v goddard_merged_seaice_conc_monthly ./previous_blank_ncs/S_monthly_blank.nc ./S_monthly_blank.nc\n",
      "\n",
      "    NCO: \"4.5.4\"\n",
      "    software_version_id: git@bitbucket.org:nsidc/seaice_cdr.git@8f4b56efc0583a583e96e12cc1229bbd3b9a5c02\n",
      "    product_version: v04r00\n",
      "    source: ftp://sidads.colorado.edu/pub/DATASETS/NOAA/G02202_V4/south/daily/2007/seaice_conc_daily_sh_20070501_f13_v04r00.nc, ftp://sidads.colorado.edu/pub/DATASETS/NOAA/G02202_V4/south/daily/2007/seaice_conc_daily_sh_20070502_f13_v04r00.nc, ftp://sidads.colorado.edu/pub/DATASETS/NOAA/G02202_V4/south/daily/2007/seaice_conc_daily_sh_20070503_f13_v04r00.nc, ftp://sidads.colorado.edu/pub/DATASETS/NOAA/G02202_V4/south/daily/2007/seaice_conc_daily_sh_20070504_f13_v04r00.nc, ftp://sidads.colorado.edu/pub/DATASETS/NOAA/G02202_V4/south/daily/2007/seaice_conc_daily_sh_20070505_f13_v04r00.nc, ftp://sidads.colorado.edu/pub/DATASETS/NOAA/G02202_V4/south/daily/2007/seaice_conc_daily_sh_20070506_f13_v04r00.nc, ftp://sidads.colorado.edu/pub/DATASETS/NOAA/G02202_V4/south/daily/2007/seaice_conc_daily_sh_20070507_f13_v04r00.nc, ftp://sidads.colorado.edu/pub/DATASETS/NOAA/G02202_V4/south/daily/2007/seaice_conc_daily_sh_20070508_f13_v04r00.nc, ftp://sidads.colorado.edu/pub/DATASETS/NOAA/G02202_V4/south/daily/2007/seaice_conc_daily_sh_20070509_f13_v04r00.nc, ftp://sidads.colorado.edu/pub/DATASETS/NOAA/G02202_V4/south/daily/2007/seaice_conc_daily_sh_20070510_f13_v04r00.nc, ftp://sidads.colorado.edu/pub/DATASETS/NOAA/G02202_V4/south/daily/2007/seaice_conc_daily_sh_20070511_f13_v04r00.nc, ftp://sidads.colorado.edu/pub/DATASETS/NOAA/G02202_V4/south/daily/2007/seaice_conc_daily_sh_20070512_f13_v04r00.nc, ftp://sidads.colorado.edu/pub/DATASETS/NOAA/G02202_V4/south/daily/2007/seaice_conc_daily_sh_20070513_f13_v04r00.nc, ftp://sidads.colorado.edu/pub/DATASETS/NOAA/G02202_V4/south/daily/2007/seaice_conc_daily_sh_20070514_f13_v04r00.nc, ftp://sidads.colorado.edu/pub/DATASETS/NOAA/G02202_V4/south/daily/2007/seaice_conc_daily_sh_20070515_f13_v04r00.nc, ftp://sidads.colorado.edu/pub/DATASETS/NOAA/G02202_V4/south/daily/2007/seaice_conc_daily_sh_20070516_f13_v04r00.nc, ftp://sidads.colorado.edu/pub/DATASETS/NOAA/G02202_V4/south/daily/2007/seaice_conc_daily_sh_20070517_f13_v04r00.nc, ftp://sidads.colorado.edu/pub/DATASETS/NOAA/G02202_V4/south/daily/2007/seaice_conc_daily_sh_20070518_f13_v04r00.nc, ftp://sidads.colorado.edu/pub/DATASETS/NOAA/G02202_V4/south/daily/2007/seaice_conc_daily_sh_20070519_f13_v04r00.nc, ftp://sidads.colorado.edu/pub/DATASETS/NOAA/G02202_V4/south/daily/2007/seaice_conc_daily_sh_20070520_f13_v04r00.nc, ftp://sidads.colorado.edu/pub/DATASETS/NOAA/G02202_V4/south/daily/2007/seaice_conc_daily_sh_20070521_f13_v04r00.nc, ftp://sidads.colorado.edu/pub/DATASETS/NOAA/G02202_V4/south/daily/2007/seaice_conc_daily_sh_20070522_f13_v04r00.nc, ftp://sidads.colorado.edu/pub/DATASETS/NOAA/G02202_V4/south/daily/2007/seaice_conc_daily_sh_20070523_f13_v04r00.nc, ftp://sidads.colorado.edu/pub/DATASETS/NOAA/G02202_V4/south/daily/2007/seaice_conc_daily_sh_20070524_f13_v04r00.nc, ftp://sidads.colorado.edu/pub/DATASETS/NOAA/G02202_V4/south/daily/2007/seaice_conc_daily_sh_20070525_f13_v04r00.nc, ftp://sidads.colorado.edu/pub/DATASETS/NOAA/G02202_V4/south/daily/2007/seaice_conc_daily_sh_20070526_f13_v04r00.nc, ftp://sidads.colorado.edu/pub/DATASETS/NOAA/G02202_V4/south/daily/2007/seaice_conc_daily_sh_20070527_f13_v04r00.nc, ftp://sidads.colorado.edu/pub/DATASETS/NOAA/G02202_V4/south/daily/2007/seaice_conc_daily_sh_20070528_f13_v04r00.nc, ftp://sidads.colorado.edu/pub/DATASETS/NOAA/G02202_V4/south/daily/2007/seaice_conc_daily_sh_20070529_f13_v04r00.nc, ftp://sidads.colorado.edu/pub/DATASETS/NOAA/G02202_V4/south/daily/2007/seaice_conc_daily_sh_20070530_f13_v04r00.nc, ftp://sidads.colorado.edu/pub/DATASETS/NOAA/G02202_V4/south/daily/2007/seaice_conc_daily_sh_20070531_f13_v04r00.nc\n",
      "    platform: DMSP 5D-2/F13 > Defense Meteorological Satellite Program-F13\n",
      "    sensor: SSM/I > Special Sensor Microwave/Imager\n",
      "    date_created: 2021-06-22T16:43:23Z\n",
      "    time_coverage_start: 2007-05-01T00:00:00Z\n",
      "    time_coverage_end: 2007-05-31T23:59:59Z\n",
      "    references: Comiso, J. C., and F. Nishio. 2008. Trends in the Sea Ice Cover Using Enhanced and Compatible AMSR-E, SSM/I, and SMMR Data. Journal of Geophysical Research 113, C02S07, doi:10.1029/2007JC0043257. ; Comiso, J. C., D. Cavalieri, C. Parkinson, and P. Gloersen. 1997. Passive Microwave Algorithms for Sea Ice Concentrations: A Comparison of Two Techniques. Remote Sensing of the Environment 60(3):357-84. ; Comiso, J. C. 1984. Characteristics of Winter Sea Ice from Satellite Multispectral Microwave Observations. Journal of Geophysical Research 91(C1):975-94. ; Cavalieri, D. J., P. Gloersen, and W. J. Campbell. 1984. Determination of Sea Ice Parameters with the NIMBUS-7 SMMR. Journal of Geophysical Research 89(D4):5355-5369. ; Cavalieri, D. J., C. l. Parkinson, P. Gloersen, J. C. Comiso, and H. J. Zwally. 1999. Deriving Long-term Time Series of Sea Ice Cover from Satellite Passive-Microwave Multisensor Data Sets. Journal of Geophysical Research 104(7):\t15,803-15,814. ; Comiso, J.C., R.A. Gersten, L.V. Stock, J. Turner, G.J. Perez, and K. Cho. 2017. Positive Trend in the Antarctic Sea Ice Cover and Associated Changes in Surface Temperature. J. Climate, 30, 2251–2267, https://doi.org/10.1175/JCLI-D-16-0408.1\n",
      "    dimensions(sizes): tdim(1), y(332), x(316)\n",
      "    variables(dimensions): uint8 cdr_seaice_conc_monthly(tdim,y,x), uint8 nsidc_bt_seaice_conc_monthly(tdim,y,x), uint8 nsidc_nt_seaice_conc_monthly(tdim,y,x), |S1 projection(), uint8 qa_of_cdr_seaice_conc_monthly(tdim,y,x), float32 stdev_of_cdr_seaice_conc_monthly(tdim,y,x), float32 time(tdim), float32 xgrid(x), float32 ygrid(y)\n",
      "    groups: \n"
     ]
    },
    {
     "name": "stderr",
     "output_type": "stream",
     "text": [
      "/opt/sw/anaconda3/envs/pangeoxtd36/lib/python3.6/site-packages/ipykernel_launcher.py:1: DeprecationWarning: tostring() is deprecated. Use tobytes() instead.\n",
      "  \"\"\"Entry point for launching an IPython kernel.\n"
     ]
    }
   ],
   "source": [
    "print(fh)"
   ]
  },
  {
   "cell_type": "code",
   "execution_count": 4,
   "metadata": {},
   "outputs": [
    {
     "name": "stdout",
     "output_type": "stream",
     "text": [
      "<class 'netCDF4._netCDF4.Variable'>\n",
      "uint8 cdr_seaice_conc_monthly(tdim, y, x)\n",
      "    _FillValue: 255\n",
      "    _Unsigned: true\n",
      "    long_name: NOAA/NSIDC Climate Data Record of Passive Microwave Monthly Southern Hemisphere Sea Ice Concentration\n",
      "    standard_name: sea_ice_area_fraction\n",
      "    units: 1\n",
      "    coordinates: time ygrid xgrid\n",
      "    flag_values: [251 252 253 254 255]\n",
      "    flag_meanings: pole_hole lakes coastal land_mask missing_data\n",
      "    datum: +ellps=urn:ogc:def:crs:EPSG::4326\n",
      "    grid_mapping: projection\n",
      "    reference: https://nsidc.org/data/g02202/versions/4/\n",
      "    ancillary_variables: stdev_of_cdr_seaice_conc_monthly qa_of_cdr_seaice_conc_monthly\n",
      "    valid_range: [  0 100]\n",
      "    scale_factor: 0.01\n",
      "unlimited dimensions: tdim\n",
      "current shape = (1, 332, 316)\n",
      "filling on\n"
     ]
    },
    {
     "name": "stderr",
     "output_type": "stream",
     "text": [
      "/opt/sw/anaconda3/envs/pangeoxtd36/lib/python3.6/site-packages/ipykernel_launcher.py:2: DeprecationWarning: tostring() is deprecated. Use tobytes() instead.\n",
      "  \n"
     ]
    }
   ],
   "source": [
    "sic = fh.variables['cdr_seaice_conc_monthly']\n",
    "sic_data = sic[:]\n",
    "print(sic)"
   ]
  },
  {
   "cell_type": "code",
   "execution_count": 6,
   "metadata": {},
   "outputs": [
    {
     "name": "stdout",
     "output_type": "stream",
     "text": [
      "('tdim', <class 'netCDF4._netCDF4.Dimension'> (unlimited): name = 'tdim', size = 1)\n",
      "('y', <class 'netCDF4._netCDF4.Dimension'>: name = 'y', size = 332)\n",
      "('x', <class 'netCDF4._netCDF4.Dimension'>: name = 'x', size = 316)\n"
     ]
    },
    {
     "name": "stderr",
     "output_type": "stream",
     "text": [
      "/opt/sw/anaconda3/envs/pangeoxtd36/lib/python3.6/site-packages/ipykernel_launcher.py:2: DeprecationWarning: tostring() is deprecated. Use tobytes() instead.\n",
      "  \n"
     ]
    }
   ],
   "source": [
    "for d in fh.dimensions.items():\n",
    "    print(d)"
   ]
  },
  {
   "cell_type": "markdown",
   "metadata": {},
   "source": [
    "tdim: 1st dimension. has size 1 but is \"unlimited\" type, meaning the size of the dimennsion can be increased indefinitely. size of other dimensions is fixed."
   ]
  },
  {
   "cell_type": "code",
   "execution_count": 7,
   "metadata": {},
   "outputs": [
    {
     "name": "stdout",
     "output_type": "stream",
     "text": [
      "('tdim', 'y', 'x')\n",
      "(1, 332, 316)\n"
     ]
    }
   ],
   "source": [
    "print(sic.dimensions)\n",
    "print(sic.shape)"
   ]
  },
  {
   "cell_type": "code",
   "execution_count": 8,
   "metadata": {},
   "outputs": [
    {
     "name": "stdout",
     "output_type": "stream",
     "text": [
      "<class 'netCDF4._netCDF4.Variable'>\n",
      "uint8 cdr_seaice_conc_monthly(tdim, y, x)\n",
      "    _FillValue: 255\n",
      "    _Unsigned: true\n",
      "    long_name: NOAA/NSIDC Climate Data Record of Passive Microwave Monthly Southern Hemisphere Sea Ice Concentration\n",
      "    standard_name: sea_ice_area_fraction\n",
      "    units: 1\n",
      "    coordinates: time ygrid xgrid\n",
      "    flag_values: [251 252 253 254 255]\n",
      "    flag_meanings: pole_hole lakes coastal land_mask missing_data\n",
      "    datum: +ellps=urn:ogc:def:crs:EPSG::4326\n",
      "    grid_mapping: projection\n",
      "    reference: https://nsidc.org/data/g02202/versions/4/\n",
      "    ancillary_variables: stdev_of_cdr_seaice_conc_monthly qa_of_cdr_seaice_conc_monthly\n",
      "    valid_range: [  0 100]\n",
      "    scale_factor: 0.01\n",
      "unlimited dimensions: tdim\n",
      "current shape = (1, 332, 316)\n",
      "filling on \n",
      "\n",
      "<class 'netCDF4._netCDF4.Variable'>\n",
      "float32 time(tdim)\n",
      "    standard_name: time\n",
      "    units: days since 1601-01-01 00:00:00\n",
      "    long_name: ANSI date\n",
      "    calendar: gregorian\n",
      "    axis: T\n",
      "unlimited dimensions: tdim\n",
      "current shape = (1,)\n",
      "filling on, default _FillValue of 9.969209968386869e+36 used \n",
      "\n",
      "<class 'netCDF4._netCDF4.Variable'>\n",
      "float32 xgrid(x)\n",
      "    valid_range: [-3950000.  3950000.]\n",
      "    units: meters\n",
      "    long_name: projection_grid_x_centers\n",
      "    standard_name: projection_x_coordinate\n",
      "    axis: X\n",
      "unlimited dimensions: \n",
      "current shape = (316,)\n",
      "filling on, default _FillValue of 9.969209968386869e+36 used \n",
      "\n",
      "<class 'netCDF4._netCDF4.Variable'>\n",
      "float32 ygrid(y)\n",
      "    valid_range: [-3950000.  4350000.]\n",
      "    units: meters\n",
      "    long_name: projection_grid_y_centers\n",
      "    standard_name: projection_y_coordinate\n",
      "    axis: Y\n",
      "unlimited dimensions: \n",
      "current shape = (332,)\n",
      "filling on, default _FillValue of 9.969209968386869e+36 used\n"
     ]
    },
    {
     "name": "stderr",
     "output_type": "stream",
     "text": [
      "/opt/sw/anaconda3/envs/pangeoxtd36/lib/python3.6/site-packages/ipykernel_launcher.py:3: DeprecationWarning: tostring() is deprecated. Use tobytes() instead.\n",
      "  This is separate from the ipykernel package so we can avoid doing imports until\n",
      "/opt/sw/anaconda3/envs/pangeoxtd36/lib/python3.6/site-packages/ipykernel_launcher.py:4: DeprecationWarning: tostring() is deprecated. Use tobytes() instead.\n",
      "  after removing the cwd from sys.path.\n",
      "/opt/sw/anaconda3/envs/pangeoxtd36/lib/python3.6/site-packages/ipykernel_launcher.py:5: DeprecationWarning: tostring() is deprecated. Use tobytes() instead.\n",
      "  \"\"\"\n",
      "/opt/sw/anaconda3/envs/pangeoxtd36/lib/python3.6/site-packages/ipykernel_launcher.py:6: DeprecationWarning: tostring() is deprecated. Use tobytes() instead.\n",
      "  \n"
     ]
    }
   ],
   "source": [
    "time = fh.variables['time']\n",
    "x,y = fh.variables['xgrid'], fh.variables['ygrid']\n",
    "print(sic, '\\n')\n",
    "print(time, '\\n')\n",
    "print(x, '\\n')\n",
    "print(y)"
   ]
  },
  {
   "cell_type": "code",
   "execution_count": 2,
   "metadata": {},
   "outputs": [
    {
     "ename": "NameError",
     "evalue": "name 'time' is not defined",
     "output_type": "error",
     "traceback": [
      "\u001b[0;31m---------------------------------------------------------------------------\u001b[0m",
      "\u001b[0;31mNameError\u001b[0m                                 Traceback (most recent call last)",
      "\u001b[0;32m<ipython-input-2-7e24fc58c061>\u001b[0m in \u001b[0;36m<module>\u001b[0;34m\u001b[0m\n\u001b[0;32m----> 1\u001b[0;31m \u001b[0mt\u001b[0m \u001b[0;34m=\u001b[0m \u001b[0mtime\u001b[0m\u001b[0;34m[\u001b[0m\u001b[0;34m:\u001b[0m\u001b[0;34m]\u001b[0m \u001b[0;31m#reads the netcdf variable time, masked_array\u001b[0m\u001b[0;34m\u001b[0m\u001b[0;34m\u001b[0m\u001b[0m\n\u001b[0m\u001b[1;32m      2\u001b[0m \u001b[0mdate_1\u001b[0m \u001b[0;34m=\u001b[0m \u001b[0mdatetime\u001b[0m\u001b[0;34m.\u001b[0m\u001b[0mdatetime\u001b[0m\u001b[0;34m.\u001b[0m\u001b[0mstrptime\u001b[0m\u001b[0;34m(\u001b[0m\u001b[0;34m\"01/01/1601\"\u001b[0m\u001b[0;34m,\u001b[0m \u001b[0;34m\"%m/%d/%Y\"\u001b[0m\u001b[0;34m)\u001b[0m\u001b[0;34m\u001b[0m\u001b[0;34m\u001b[0m\u001b[0m\n\u001b[1;32m      3\u001b[0m \u001b[0mend_date\u001b[0m \u001b[0;34m=\u001b[0m \u001b[0mdate_1\u001b[0m \u001b[0;34m+\u001b[0m \u001b[0mdatetime\u001b[0m\u001b[0;34m.\u001b[0m\u001b[0mtimedelta\u001b[0m\u001b[0;34m(\u001b[0m\u001b[0mdays\u001b[0m\u001b[0;34m=\u001b[0m\u001b[0mint\u001b[0m\u001b[0;34m(\u001b[0m\u001b[0mt\u001b[0m\u001b[0;34m)\u001b[0m\u001b[0;34m)\u001b[0m\u001b[0;34m\u001b[0m\u001b[0;34m\u001b[0m\u001b[0m\n\u001b[1;32m      4\u001b[0m \u001b[0mprint\u001b[0m\u001b[0;34m(\u001b[0m\u001b[0mend_date\u001b[0m\u001b[0;34m)\u001b[0m\u001b[0;34m\u001b[0m\u001b[0;34m\u001b[0m\u001b[0m\n\u001b[1;32m      5\u001b[0m \u001b[0;31m#cool, it indeed shows May 2007!\u001b[0m\u001b[0;34m\u001b[0m\u001b[0;34m\u001b[0m\u001b[0;34m\u001b[0m\u001b[0m\n",
      "\u001b[0;31mNameError\u001b[0m: name 'time' is not defined"
     ]
    }
   ],
   "source": [
    "t = time[:] #reads the netcdf variable time, masked_array\n",
    "date_1 = datetime.datetime.strptime(\"01/01/1601\", \"%m/%d/%Y\")\n",
    "end_date = date_1 + datetime.timedelta(days=int(t))\n",
    "print(end_date)\n",
    "#cool, it indeed shows May 2007!"
   ]
  },
  {
   "cell_type": "code",
   "execution_count": 27,
   "metadata": {
    "scrolled": true
   },
   "outputs": [
    {
     "name": "stdout",
     "output_type": "stream",
     "text": [
      "<class 'netCDF4._netCDF4.Variable'>\n",
      "(1, 332, 316)\n",
      "[0.0 0.0 0.0 0.0 0.0 0.0 0.0 0.0 0.0 0.0 0.0 0.0 0.0 0.0 0.0 0.0 0.0 0.0\n",
      " 0.0 0.0 0.0 0.0 0.0 0.0 0.0 0.0 0.0 0.0 0.0 0.0 0.0 0.0 0.0 0.0 0.0 0.0\n",
      " 0.0 0.0 0.0 0.0 0.0 0.0 0.0 0.0 0.0 0.0 0.0 0.0 0.0 0.0 0.0 0.0 0.0 0.0\n",
      " 0.0 0.0 0.0 0.0 0.0 0.0 0.0 0.0 0.0 0.0 0.0 0.0 0.019999999552965164\n",
      " 0.07999999821186066 0.14000000059604645 0.23999999463558197\n",
      " 0.32999998331069946 0.3700000047683716 0.3999999761581421\n",
      " 0.429999977350235 0.44999998807907104 0.4699999988079071\n",
      " 0.5299999713897705 0.5999999642372131 0.6800000071525574\n",
      " 0.7400000095367432 0.7699999809265137 0.7699999809265137 0.75\n",
      " 0.7199999690055847 0.7400000095367432 0.7599999904632568 -- -- -- -- --\n",
      " -- -- -- -- -- -- -- -- -- -- -- -- -- -- -- -- -- -- -- -- -- -- -- --\n",
      " -- -- -- -- -- -- -- -- -- -- -- -- -- -- -- -- -- -- -- -- -- -- -- --\n",
      " -- -- -- -- -- -- -- -- -- -- -- -- -- -- -- -- -- -- -- -- -- -- -- --\n",
      " -- -- -- -- -- -- -- -- -- -- -- -- -- -- -- -- -- -- -- -- -- -- -- --\n",
      " -- -- -- -- -- -- -- -- -- -- -- -- -- -- -- -- -- -- -- -- -- -- -- --\n",
      " -- -- -- -- -- -- -- -- -- -- -- -- -- -- -- -- -- -- -- -- -- -- -- --\n",
      " -- -- -- -- -- -- -- -- -- -- -- -- -- -- -- -- -- -- -- -- -- --\n",
      " 0.5399999618530273 0.5600000023841858 -- -- -- 0.8199999928474426\n",
      " 0.7999999523162842 0.7699999809265137 0.6899999976158142\n",
      " 0.5899999737739563 0.47999998927116394 0.41999998688697815\n",
      " 0.3400000035762787 0.25999999046325684 0.17999999225139618\n",
      " 0.12999999523162842 0.08999999612569809 0.04999999701976776\n",
      " 0.019999999552965164 0.0 0.0 0.0 0.0 0.009999999776482582 0.0 0.0 0.0 0.0\n",
      " 0.0 0.0 0.0 0.0 0.0 0.0 0.0 0.0 0.0 0.0 0.0 0.0 0.0 0.0 0.0 0.0 0.0 0.0\n",
      " 0.0 0.0 0.0 0.0 0.0 0.0 0.0 0.0 0.0 0.0 0.0 0.0 0.0]\n"
     ]
    },
    {
     "name": "stderr",
     "output_type": "stream",
     "text": [
      "/opt/sw/anaconda3/envs/pangeoxtd36/lib/python3.6/site-packages/ipykernel_launcher.py:3: DeprecationWarning: tostring() is deprecated. Use tobytes() instead.\n",
      "  This is separate from the ipykernel package so we can avoid doing imports until\n"
     ]
    }
   ],
   "source": [
    "print(type(sic))\n",
    "print(sic.shape)\n",
    "print(sic[0,160,:])"
   ]
  },
  {
   "cell_type": "code",
   "execution_count": 34,
   "metadata": {},
   "outputs": [
    {
     "name": "stdout",
     "output_type": "stream",
     "text": [
      "4212500.0\n",
      "4237500.0\n",
      "-3887500.0\n",
      "-3862500.0\n"
     ]
    }
   ],
   "source": [
    "print(y[5])\n",
    "print(y[4])\n",
    "print(x[2])\n",
    "print(x[3])\n",
    "#when plotting: x[3], y[3] are long and lats. \n",
    "#sic[0, 3, 3] is the SIC."
   ]
  },
  {
   "cell_type": "code",
   "execution_count": 37,
   "metadata": {},
   "outputs": [],
   "source": [
    "#ok = plt.contour(sic)"
   ]
  }
 ],
 "metadata": {
  "kernelspec": {
   "display_name": "Python 3",
   "language": "python",
   "name": "python3"
  },
  "language_info": {
   "codemirror_mode": {
    "name": "ipython",
    "version": 3
   },
   "file_extension": ".py",
   "mimetype": "text/x-python",
   "name": "python",
   "nbconvert_exporter": "python",
   "pygments_lexer": "ipython3",
   "version": "3.6.12"
  }
 },
 "nbformat": 4,
 "nbformat_minor": 4
}
